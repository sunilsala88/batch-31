{
 "cells": [
  {
   "cell_type": "code",
   "execution_count": 1,
   "id": "ab55eb36",
   "metadata": {},
   "outputs": [
    {
     "name": "stdout",
     "output_type": "stream",
     "text": [
      "YF.download() has changed argument auto_adjust default to True\n"
     ]
    },
    {
     "name": "stderr",
     "output_type": "stream",
     "text": [
      "[*********************100%***********************]  1 of 1 completed\n"
     ]
    },
    {
     "data": {
      "text/html": [
       "<div>\n",
       "<style scoped>\n",
       "    .dataframe tbody tr th:only-of-type {\n",
       "        vertical-align: middle;\n",
       "    }\n",
       "\n",
       "    .dataframe tbody tr th {\n",
       "        vertical-align: top;\n",
       "    }\n",
       "\n",
       "    .dataframe thead th {\n",
       "        text-align: right;\n",
       "    }\n",
       "</style>\n",
       "<table border=\"1\" class=\"dataframe\">\n",
       "  <thead>\n",
       "    <tr style=\"text-align: right;\">\n",
       "      <th></th>\n",
       "      <th>Close</th>\n",
       "      <th>High</th>\n",
       "      <th>Low</th>\n",
       "      <th>Open</th>\n",
       "      <th>Volume</th>\n",
       "    </tr>\n",
       "    <tr>\n",
       "      <th>Datetime</th>\n",
       "      <th></th>\n",
       "      <th></th>\n",
       "      <th></th>\n",
       "      <th></th>\n",
       "      <th></th>\n",
       "    </tr>\n",
       "  </thead>\n",
       "  <tbody>\n",
       "    <tr>\n",
       "      <th>2025-05-08 13:30:00+00:00</th>\n",
       "      <td>281.869995</td>\n",
       "      <td>282.179993</td>\n",
       "      <td>279.410004</td>\n",
       "      <td>279.630005</td>\n",
       "      <td>3440211</td>\n",
       "    </tr>\n",
       "    <tr>\n",
       "      <th>2025-05-08 13:31:00+00:00</th>\n",
       "      <td>283.060089</td>\n",
       "      <td>284.054993</td>\n",
       "      <td>281.612610</td>\n",
       "      <td>281.939392</td>\n",
       "      <td>980809</td>\n",
       "    </tr>\n",
       "    <tr>\n",
       "      <th>2025-05-08 13:32:00+00:00</th>\n",
       "      <td>283.029999</td>\n",
       "      <td>283.689911</td>\n",
       "      <td>282.500000</td>\n",
       "      <td>283.105011</td>\n",
       "      <td>606607</td>\n",
       "    </tr>\n",
       "    <tr>\n",
       "      <th>2025-05-08 13:33:00+00:00</th>\n",
       "      <td>284.390015</td>\n",
       "      <td>284.529999</td>\n",
       "      <td>282.880005</td>\n",
       "      <td>283.010010</td>\n",
       "      <td>768278</td>\n",
       "    </tr>\n",
       "    <tr>\n",
       "      <th>2025-05-08 13:34:00+00:00</th>\n",
       "      <td>284.571198</td>\n",
       "      <td>285.559998</td>\n",
       "      <td>284.279999</td>\n",
       "      <td>284.339996</td>\n",
       "      <td>915990</td>\n",
       "    </tr>\n",
       "    <tr>\n",
       "      <th>...</th>\n",
       "      <td>...</td>\n",
       "      <td>...</td>\n",
       "      <td>...</td>\n",
       "      <td>...</td>\n",
       "      <td>...</td>\n",
       "    </tr>\n",
       "    <tr>\n",
       "      <th>2025-05-16 19:55:00+00:00</th>\n",
       "      <td>349.429993</td>\n",
       "      <td>349.510010</td>\n",
       "      <td>349.089996</td>\n",
       "      <td>349.160004</td>\n",
       "      <td>501689</td>\n",
       "    </tr>\n",
       "    <tr>\n",
       "      <th>2025-05-16 19:56:00+00:00</th>\n",
       "      <td>349.529999</td>\n",
       "      <td>349.609985</td>\n",
       "      <td>349.269989</td>\n",
       "      <td>349.440002</td>\n",
       "      <td>431523</td>\n",
       "    </tr>\n",
       "    <tr>\n",
       "      <th>2025-05-16 19:57:00+00:00</th>\n",
       "      <td>349.899994</td>\n",
       "      <td>349.929993</td>\n",
       "      <td>349.510010</td>\n",
       "      <td>349.529999</td>\n",
       "      <td>509836</td>\n",
       "    </tr>\n",
       "    <tr>\n",
       "      <th>2025-05-16 19:58:00+00:00</th>\n",
       "      <td>349.480011</td>\n",
       "      <td>349.929993</td>\n",
       "      <td>349.360291</td>\n",
       "      <td>349.869995</td>\n",
       "      <td>473220</td>\n",
       "    </tr>\n",
       "    <tr>\n",
       "      <th>2025-05-16 19:59:00+00:00</th>\n",
       "      <td>349.799988</td>\n",
       "      <td>349.929993</td>\n",
       "      <td>349.380005</td>\n",
       "      <td>349.440002</td>\n",
       "      <td>1107255</td>\n",
       "    </tr>\n",
       "  </tbody>\n",
       "</table>\n",
       "<p>2719 rows × 5 columns</p>\n",
       "</div>"
      ],
      "text/plain": [
       "                                Close        High         Low        Open  \\\n",
       "Datetime                                                                    \n",
       "2025-05-08 13:30:00+00:00  281.869995  282.179993  279.410004  279.630005   \n",
       "2025-05-08 13:31:00+00:00  283.060089  284.054993  281.612610  281.939392   \n",
       "2025-05-08 13:32:00+00:00  283.029999  283.689911  282.500000  283.105011   \n",
       "2025-05-08 13:33:00+00:00  284.390015  284.529999  282.880005  283.010010   \n",
       "2025-05-08 13:34:00+00:00  284.571198  285.559998  284.279999  284.339996   \n",
       "...                               ...         ...         ...         ...   \n",
       "2025-05-16 19:55:00+00:00  349.429993  349.510010  349.089996  349.160004   \n",
       "2025-05-16 19:56:00+00:00  349.529999  349.609985  349.269989  349.440002   \n",
       "2025-05-16 19:57:00+00:00  349.899994  349.929993  349.510010  349.529999   \n",
       "2025-05-16 19:58:00+00:00  349.480011  349.929993  349.360291  349.869995   \n",
       "2025-05-16 19:59:00+00:00  349.799988  349.929993  349.380005  349.440002   \n",
       "\n",
       "                            Volume  \n",
       "Datetime                            \n",
       "2025-05-08 13:30:00+00:00  3440211  \n",
       "2025-05-08 13:31:00+00:00   980809  \n",
       "2025-05-08 13:32:00+00:00   606607  \n",
       "2025-05-08 13:33:00+00:00   768278  \n",
       "2025-05-08 13:34:00+00:00   915990  \n",
       "...                            ...  \n",
       "2025-05-16 19:55:00+00:00   501689  \n",
       "2025-05-16 19:56:00+00:00   431523  \n",
       "2025-05-16 19:57:00+00:00   509836  \n",
       "2025-05-16 19:58:00+00:00   473220  \n",
       "2025-05-16 19:59:00+00:00  1107255  \n",
       "\n",
       "[2719 rows x 5 columns]"
      ]
     },
     "execution_count": 1,
     "metadata": {},
     "output_type": "execute_result"
    }
   ],
   "source": [
    "import pandas as pd\n",
    "import yfinance as yf\n",
    "\n",
    "data=yf.download('TSLA',multi_level_index=False,period='7d',interval='1m')\n",
    "data"
   ]
  },
  {
   "cell_type": "code",
   "execution_count": null,
   "id": "7ede99e2",
   "metadata": {},
   "outputs": [
    {
     "data": {
      "text/plain": [
       "0      2025-05-08 13:30:00\n",
       "1      2025-05-08 13:31:00\n",
       "2      2025-05-08 13:32:00\n",
       "3      2025-05-08 13:33:00\n",
       "4      2025-05-08 13:34:00\n",
       "               ...        \n",
       "2714   2025-05-16 19:55:00\n",
       "2715   2025-05-16 19:56:00\n",
       "2716   2025-05-16 19:57:00\n",
       "2717   2025-05-16 19:58:00\n",
       "2718   2025-05-16 19:59:00\n",
       "Name: Datetime, Length: 2719, dtype: datetime64[ns]"
      ]
     },
     "execution_count": 3,
     "metadata": {},
     "output_type": "execute_result"
    }
   ],
   "source": [
    "data=data.reset_index()\n",
    "#remove timezone\n",
    "data['Datetime'].dt.tz_localize(None)"
   ]
  },
  {
   "cell_type": "markdown",
   "id": "788e1662",
   "metadata": {},
   "source": [
    "convert timezon"
   ]
  },
  {
   "cell_type": "code",
   "execution_count": 4,
   "id": "eba33e3d",
   "metadata": {},
   "outputs": [
    {
     "data": {
      "text/plain": [
       "0      2025-05-08 09:30:00-04:00\n",
       "1      2025-05-08 09:31:00-04:00\n",
       "2      2025-05-08 09:32:00-04:00\n",
       "3      2025-05-08 09:33:00-04:00\n",
       "4      2025-05-08 09:34:00-04:00\n",
       "                  ...           \n",
       "2714   2025-05-16 15:55:00-04:00\n",
       "2715   2025-05-16 15:56:00-04:00\n",
       "2716   2025-05-16 15:57:00-04:00\n",
       "2717   2025-05-16 15:58:00-04:00\n",
       "2718   2025-05-16 15:59:00-04:00\n",
       "Name: Datetime, Length: 2719, dtype: datetime64[ns, America/New_York]"
      ]
     },
     "execution_count": 4,
     "metadata": {},
     "output_type": "execute_result"
    }
   ],
   "source": [
    "data['Datetime'].dt.tz_convert('America/New_York')"
   ]
  },
  {
   "cell_type": "code",
   "execution_count": 5,
   "id": "4ce43d3e",
   "metadata": {},
   "outputs": [
    {
     "data": {
      "text/plain": [
       "0      2025-05-08 09:30:00\n",
       "1      2025-05-08 09:31:00\n",
       "2      2025-05-08 09:32:00\n",
       "3      2025-05-08 09:33:00\n",
       "4      2025-05-08 09:34:00\n",
       "               ...        \n",
       "2714   2025-05-16 15:55:00\n",
       "2715   2025-05-16 15:56:00\n",
       "2716   2025-05-16 15:57:00\n",
       "2717   2025-05-16 15:58:00\n",
       "2718   2025-05-16 15:59:00\n",
       "Name: Datetime, Length: 2719, dtype: datetime64[ns]"
      ]
     },
     "execution_count": 5,
     "metadata": {},
     "output_type": "execute_result"
    }
   ],
   "source": [
    "data['Datetime'].dt.tz_convert('America/New_York').dt.tz_localize(None)"
   ]
  }
 ],
 "metadata": {
  "kernelspec": {
   "display_name": ".venv",
   "language": "python",
   "name": "python3"
  },
  "language_info": {
   "codemirror_mode": {
    "name": "ipython",
    "version": 3
   },
   "file_extension": ".py",
   "mimetype": "text/x-python",
   "name": "python",
   "nbconvert_exporter": "python",
   "pygments_lexer": "ipython3",
   "version": "3.12.8"
  }
 },
 "nbformat": 4,
 "nbformat_minor": 5
}
