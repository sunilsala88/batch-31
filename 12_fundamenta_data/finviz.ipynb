{
 "cells": [
  {
   "cell_type": "code",
   "execution_count": 11,
   "id": "f6a00051",
   "metadata": {},
   "outputs": [
    {
     "data": {
      "text/html": [
       "<div>\n",
       "<style scoped>\n",
       "    .dataframe tbody tr th:only-of-type {\n",
       "        vertical-align: middle;\n",
       "    }\n",
       "\n",
       "    .dataframe tbody tr th {\n",
       "        vertical-align: top;\n",
       "    }\n",
       "\n",
       "    .dataframe thead th {\n",
       "        text-align: right;\n",
       "    }\n",
       "</style>\n",
       "<table border=\"1\" class=\"dataframe\">\n",
       "  <thead>\n",
       "    <tr style=\"text-align: right;\">\n",
       "      <th></th>\n",
       "      <th>Ticker</th>\n",
       "      <th>Company</th>\n",
       "      <th>Sector</th>\n",
       "      <th>Industry</th>\n",
       "      <th>Country</th>\n",
       "      <th>Market Cap</th>\n",
       "      <th>P/E</th>\n",
       "      <th>Price</th>\n",
       "      <th>Change</th>\n",
       "      <th>Volume</th>\n",
       "    </tr>\n",
       "  </thead>\n",
       "  <tbody>\n",
       "    <tr>\n",
       "      <th>0</th>\n",
       "      <td>ANET</td>\n",
       "      <td>Arista Networks Inc</td>\n",
       "      <td>Technology</td>\n",
       "      <td>Computer Hardware</td>\n",
       "      <td>USA</td>\n",
       "      <td>1.145400e+11</td>\n",
       "      <td>38.58</td>\n",
       "      <td>91.20</td>\n",
       "      <td>-0.0147</td>\n",
       "      <td>7426962.0</td>\n",
       "    </tr>\n",
       "    <tr>\n",
       "      <th>1</th>\n",
       "      <td>FICO</td>\n",
       "      <td>Fair Isaac Corp</td>\n",
       "      <td>Technology</td>\n",
       "      <td>Software - Application</td>\n",
       "      <td>USA</td>\n",
       "      <td>4.124000e+10</td>\n",
       "      <td>72.98</td>\n",
       "      <td>1694.36</td>\n",
       "      <td>-0.0035</td>\n",
       "      <td>290094.0</td>\n",
       "    </tr>\n",
       "    <tr>\n",
       "      <th>2</th>\n",
       "      <td>FTNT</td>\n",
       "      <td>Fortinet Inc</td>\n",
       "      <td>Technology</td>\n",
       "      <td>Software - Infrastructure</td>\n",
       "      <td>USA</td>\n",
       "      <td>7.896000e+10</td>\n",
       "      <td>42.46</td>\n",
       "      <td>103.16</td>\n",
       "      <td>-0.0044</td>\n",
       "      <td>3768616.0</td>\n",
       "    </tr>\n",
       "    <tr>\n",
       "      <th>3</th>\n",
       "      <td>PAYX</td>\n",
       "      <td>Paychex Inc</td>\n",
       "      <td>Technology</td>\n",
       "      <td>Software - Application</td>\n",
       "      <td>USA</td>\n",
       "      <td>5.622000e+10</td>\n",
       "      <td>32.46</td>\n",
       "      <td>156.09</td>\n",
       "      <td>-0.0006</td>\n",
       "      <td>1033369.0</td>\n",
       "    </tr>\n",
       "  </tbody>\n",
       "</table>\n",
       "</div>"
      ],
      "text/plain": [
       "  Ticker              Company      Sector                   Industry Country  \\\n",
       "0   ANET  Arista Networks Inc  Technology          Computer Hardware     USA   \n",
       "1   FICO      Fair Isaac Corp  Technology     Software - Application     USA   \n",
       "2   FTNT         Fortinet Inc  Technology  Software - Infrastructure     USA   \n",
       "3   PAYX          Paychex Inc  Technology     Software - Application     USA   \n",
       "\n",
       "     Market Cap    P/E    Price  Change     Volume  \n",
       "0  1.145400e+11  38.58    91.20 -0.0147  7426962.0  \n",
       "1  4.124000e+10  72.98  1694.36 -0.0035   290094.0  \n",
       "2  7.896000e+10  42.46   103.16 -0.0044  3768616.0  \n",
       "3  5.622000e+10  32.46   156.09 -0.0006  1033369.0  "
      ]
     },
     "execution_count": 11,
     "metadata": {},
     "output_type": "execute_result"
    }
   ],
   "source": [
    "from finvizfinance.screener.overview import Overview\n",
    "\n",
    "foverview = Overview()\n",
    "filters_dict = {'Index':'S&P 500','Sector':'Technology','PEG':\"High (>2)\",'P/S':'Over 10','Return on Investment':'Very Positive (>25%)'}\n",
    "foverview.set_filter(filters_dict=filters_dict)\n",
    "df = foverview.screener_view()\n",
    "df"
   ]
  },
  {
   "cell_type": "code",
   "execution_count": 6,
   "id": "85942734",
   "metadata": {},
   "outputs": [
    {
     "data": {
      "text/plain": [
       "'PLTR'"
      ]
     },
     "execution_count": 6,
     "metadata": {},
     "output_type": "execute_result"
    }
   ],
   "source": [
    "df2=df.sort_values(by='P/E').dropna(axis=0)\n",
    "df2.iloc[-1]['Ticker']"
   ]
  }
 ],
 "metadata": {
  "kernelspec": {
   "display_name": ".venv",
   "language": "python",
   "name": "python3"
  },
  "language_info": {
   "codemirror_mode": {
    "name": "ipython",
    "version": 3
   },
   "file_extension": ".py",
   "mimetype": "text/x-python",
   "name": "python",
   "nbconvert_exporter": "python",
   "pygments_lexer": "ipython3",
   "version": "3.12.8"
  }
 },
 "nbformat": 4,
 "nbformat_minor": 5
}
