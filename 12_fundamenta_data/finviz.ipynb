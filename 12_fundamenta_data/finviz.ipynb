{
 "cells": [
  {
   "cell_type": "code",
   "execution_count": 1,
   "id": "f6a00051",
   "metadata": {},
   "outputs": [
    {
     "name": "stdout",
     "output_type": "stream",
     "text": [
      "   Ticker                        Company      Sector  \\5 \n",
      "37    HPE  Hewlett Packard Enterprise Co  Technology   \n",
      "81    WDC           Western Digital Corp  Technology   \n",
      "38    HPQ                         HP Inc  Technology   \n",
      "75   TRMB                    Trimble Inc  Technology   \n",
      "35    GPN           Global Payments, Inc  Technology   \n",
      "..    ...                            ...         ...   \n",
      "12   AVGO                   Broadcom Inc  Technology   \n",
      "80   WDAY                    Workday Inc  Technology   \n",
      "55    NOW                 ServiceNow Inc  Technology   \n",
      "21    DAY                   Dayforce Inc  Technology   \n",
      "64   PLTR      Palantir Technologies Inc  Technology   \n",
      "\n",
      "                              Industry Country    Market Cap     P/E    Price  \\\n",
      "37             Communication Equipment     USA  2.288000e+10    8.62    17.42   \n",
      "81                   Computer Hardware     USA  1.751000e+10    9.54    50.18   \n",
      "38                   Computer Hardware     USA  2.638000e+10   10.05    27.98   \n",
      "75  Scientific & Technical Instruments     USA  1.683000e+10   11.49    70.55   \n",
      "35           Software - Infrastructure     USA  1.807000e+10   11.96    74.09   \n",
      "..                                 ...     ...           ...     ...      ...   \n",
      "12                      Semiconductors     USA  1.075430e+12  110.32   228.72   \n",
      "80              Software - Application     USA  6.370000e+10  131.54   238.01   \n",
      "55              Software - Application     USA  2.078900e+11  136.34  1004.37   \n",
      "21              Software - Application     USA  9.150000e+09  357.91    57.23   \n",
      "64           Software - Infrastructure     USA  2.910000e+11  538.47   123.31   \n",
      "\n",
      "    Change      Volume  \n",
      "37 -0.0074   9262255.0  \n",
      "81  0.0068   5761963.0  \n",
      "38 -0.0182   7661828.0  \n",
      "75 -0.0034    929216.0  \n",
      "35 -0.0215   2199930.0  \n",
      "..     ...         ...  \n",
      "12 -0.0079  15365821.0  \n",
      "80 -0.1252   9906184.0  \n",
      "55 -0.0112   1384880.0  \n",
      "21 -0.0192   1059142.0  \n",
      "64  0.0083  65607352.0  \n",
      "\n",
      "[80 rows x 10 columns]\n"
     ]
    }
   ],
   "source": [
    "from finvizfinance.screener.overview import Overview\n",
    "\n",
    "foverview = Overview()\n",
    "filters_dict = {'Index':'S&P 500','Sector':'Technology'}\n",
    "foverview.set_filter(filters_dict=filters_dict)\n",
    "df = foverview.screener_view()\n",
    "print(df.sort_values(by='P/E').dropna(axis=0))"
   ]
  },
  {
   "cell_type": "code",
   "execution_count": 6,
   "id": "85942734",
   "metadata": {},
   "outputs": [
    {
     "data": {
      "text/plain": [
       "'PLTR'"
      ]
     },
     "execution_count": 6,
     "metadata": {},
     "output_type": "execute_result"
    }
   ],
   "source": [
    "df2=df.sort_values(by='P/E').dropna(axis=0)\n",
    "df2.iloc[-1]['Ticker']"
   ]
  }
 ],
 "metadata": {
  "kernelspec": {
   "display_name": ".venv",
   "language": "python",
   "name": "python3"
  },
  "language_info": {
   "codemirror_mode": {
    "name": "ipython",
    "version": 3
   },
   "file_extension": ".py",
   "mimetype": "text/x-python",
   "name": "python",
   "nbconvert_exporter": "python",
   "pygments_lexer": "ipython3",
   "version": "3.12.8"
  }
 },
 "nbformat": 4,
 "nbformat_minor": 5
}
