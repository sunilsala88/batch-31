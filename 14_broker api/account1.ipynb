{
 "cells": [
  {
   "cell_type": "code",
   "execution_count": 4,
   "id": "cdf6cdc4",
   "metadata": {},
   "outputs": [
    {
     "data": {
      "text/plain": [
       "{   'account_blocked': False,\n",
       "    'account_number': 'PA32II6CTZQA',\n",
       "    'accrued_fees': '0',\n",
       "    'buying_power': '597780.84',\n",
       "    'cash': '24963.61',\n",
       "    'created_at': datetime.datetime(2024, 8, 24, 9, 13, 29, 133143, tzinfo=TzInfo(UTC)),\n",
       "    'crypto_status': <AccountStatus.ACTIVE: 'ACTIVE'>,\n",
       "    'currency': 'USD',\n",
       "    'daytrade_count': 0,\n",
       "    'daytrading_buying_power': '597780.84',\n",
       "    'equity': '1035758.21',\n",
       "    'id': UUID('28959f70-ced0-4150-a908-c1d2ef1a475a'),\n",
       "    'initial_margin': '89639.39',\n",
       "    'last_equity': '1029364.9163546246',\n",
       "    'last_maintenance_margin': '53783.63',\n",
       "    'long_market_value': '1011377.47',\n",
       "    'maintenance_margin': '53783.63',\n",
       "    'multiplier': '4',\n",
       "    'non_marginable_buying_power': '111437.25',\n",
       "    'options_approved_level': 3,\n",
       "    'options_buying_power': '111437.25',\n",
       "    'options_trading_level': 3,\n",
       "    'pattern_day_trader': True,\n",
       "    'pending_transfer_in': None,\n",
       "    'pending_transfer_out': None,\n",
       "    'portfolio_value': '1035758.21',\n",
       "    'regt_buying_power': '226874.51',\n",
       "    'short_market_value': '-582.87',\n",
       "    'shorting_enabled': True,\n",
       "    'sma': '203429.63',\n",
       "    'status': <AccountStatus.ACTIVE: 'ACTIVE'>,\n",
       "    'trade_suspended_by_user': False,\n",
       "    'trading_blocked': False,\n",
       "    'transfers_blocked': False}"
      ]
     },
     "execution_count": 4,
     "metadata": {},
     "output_type": "execute_result"
    }
   ],
   "source": [
    "from alpaca.trading.client import TradingClient\n",
    "api_key='PKCGQ99MC5FQA1P8ZSRE'\n",
    "secret_key='rkWLI1F2poiTbuERdzozfOLgVV6mrFKTH27Ugvb1'\n",
    "trading_client = TradingClient(api_key, secret_key, paper=True)\n",
    "\n",
    "account = trading_client.get_account()\n",
    "account"
   ]
  },
  {
   "cell_type": "code",
   "execution_count": null,
   "id": "98c82115",
   "metadata": {},
   "outputs": [],
   "source": [
    "pos=trading_client.get_all_positions()"
   ]
  },
  {
   "cell_type": "code",
   "execution_count": null,
   "id": "78d8ec34",
   "metadata": {},
   "outputs": [],
   "source": [
    "import pandas as pd\n",
    "pos_list=[]\n",
    "for p in pos:\n",
    "    pos_list.append(dict(p))\n",
    "df=pd.DataFrame(pos_list)\n",
    "df.to_csv('data.csv')"
   ]
  },
  {
   "cell_type": "markdown",
   "id": "10022294",
   "metadata": {},
   "source": [
    "#order"
   ]
  },
  {
   "cell_type": "code",
   "execution_count": 5,
   "id": "c74e53be",
   "metadata": {},
   "outputs": [
    {
     "data": {
      "text/plain": [
       "[]"
      ]
     },
     "execution_count": 5,
     "metadata": {},
     "output_type": "execute_result"
    }
   ],
   "source": [
    "ord=trading_client.get_orders()\n",
    "ord"
   ]
  },
  {
   "cell_type": "code",
   "execution_count": 7,
   "id": "72867df4",
   "metadata": {},
   "outputs": [
    {
     "data": {
      "text/html": [
       "<div>\n",
       "<style scoped>\n",
       "    .dataframe tbody tr th:only-of-type {\n",
       "        vertical-align: middle;\n",
       "    }\n",
       "\n",
       "    .dataframe tbody tr th {\n",
       "        vertical-align: top;\n",
       "    }\n",
       "\n",
       "    .dataframe thead th {\n",
       "        text-align: right;\n",
       "    }\n",
       "</style>\n",
       "<table border=\"1\" class=\"dataframe\">\n",
       "  <thead>\n",
       "    <tr style=\"text-align: right;\">\n",
       "      <th></th>\n",
       "    </tr>\n",
       "  </thead>\n",
       "  <tbody>\n",
       "  </tbody>\n",
       "</table>\n",
       "</div>"
      ],
      "text/plain": [
       "Empty DataFrame\n",
       "Columns: []\n",
       "Index: []"
      ]
     },
     "execution_count": 7,
     "metadata": {},
     "output_type": "execute_result"
    }
   ],
   "source": [
    "import pandas as pd\n",
    "ord_list=[]\n",
    "for o in ord:\n",
    "    ord_list.append(dict(o))\n",
    "ord_df=pd.DataFrame(ord_list)\n",
    "ord_df.to_csv('data.csv')\n",
    "ord_df"
   ]
  },
  {
   "cell_type": "markdown",
   "id": "50534046",
   "metadata": {},
   "source": [
    "cancel order"
   ]
  },
  {
   "cell_type": "code",
   "execution_count": null,
   "id": "0559a9ed",
   "metadata": {},
   "outputs": [],
   "source": [
    "trading_client.cancel_order_by_id('e630cfc2-ae67-4fb1-8220-6a91350df8cc')"
   ]
  },
  {
   "cell_type": "markdown",
   "id": "66d98913",
   "metadata": {},
   "source": [
    "close position"
   ]
  },
  {
   "cell_type": "code",
   "execution_count": 8,
   "id": "c4e61e9a",
   "metadata": {},
   "outputs": [
    {
     "data": {
      "text/plain": [
       "{   'asset_class': <AssetClass.CRYPTO: 'crypto'>,\n",
       "    'asset_id': UUID('9226ef75-ba41-4a4b-a1b4-96e1a1b818f0'),\n",
       "    'canceled_at': None,\n",
       "    'client_order_id': '2a990b6a-3c24-42ee-972b-62a82d45cce3',\n",
       "    'created_at': datetime.datetime(2025, 6, 1, 13, 48, 5, 990469, tzinfo=TzInfo(UTC)),\n",
       "    'expired_at': None,\n",
       "    'expires_at': datetime.datetime(2025, 8, 28, 20, 0, tzinfo=TzInfo(UTC)),\n",
       "    'extended_hours': False,\n",
       "    'failed_at': None,\n",
       "    'filled_at': None,\n",
       "    'filled_avg_price': None,\n",
       "    'filled_qty': '0',\n",
       "    'hwm': None,\n",
       "    'id': UUID('eeb0ea2e-e9b6-4676-8756-27faa09f54d4'),\n",
       "    'legs': None,\n",
       "    'limit_price': None,\n",
       "    'notional': None,\n",
       "    'order_class': <OrderClass.SIMPLE: 'simple'>,\n",
       "    'order_type': <OrderType.MARKET: 'market'>,\n",
       "    'position_intent': <PositionIntent.SELL_TO_CLOSE: 'sell_to_close'>,\n",
       "    'qty': '0.9975',\n",
       "    'ratio_qty': None,\n",
       "    'replaced_at': None,\n",
       "    'replaced_by': None,\n",
       "    'replaces': None,\n",
       "    'side': <OrderSide.SELL: 'sell'>,\n",
       "    'status': <OrderStatus.PENDING_NEW: 'pending_new'>,\n",
       "    'stop_price': None,\n",
       "    'submitted_at': datetime.datetime(2025, 6, 1, 13, 48, 5, 990469, tzinfo=TzInfo(UTC)),\n",
       "    'symbol': 'SOL/USD',\n",
       "    'time_in_force': <TimeInForce.GTC: 'gtc'>,\n",
       "    'trail_percent': None,\n",
       "    'trail_price': None,\n",
       "    'type': <OrderType.MARKET: 'market'>,\n",
       "    'updated_at': datetime.datetime(2025, 6, 1, 13, 48, 5, 991494, tzinfo=TzInfo(UTC))}"
      ]
     },
     "execution_count": 8,
     "metadata": {},
     "output_type": "execute_result"
    }
   ],
   "source": [
    "trading_client.close_position('SOLUSD')"
   ]
  }
 ],
 "metadata": {
  "kernelspec": {
   "display_name": ".venv",
   "language": "python",
   "name": "python3"
  },
  "language_info": {
   "codemirror_mode": {
    "name": "ipython",
    "version": 3
   },
   "file_extension": ".py",
   "mimetype": "text/x-python",
   "name": "python",
   "nbconvert_exporter": "python",
   "pygments_lexer": "ipython3",
   "version": "3.12.8"
  }
 },
 "nbformat": 4,
 "nbformat_minor": 5
}
