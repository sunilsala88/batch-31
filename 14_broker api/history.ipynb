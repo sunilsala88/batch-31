{
 "cells": [
  {
   "cell_type": "markdown",
   "id": "430a53b3",
   "metadata": {},
   "source": [
    "stocks"
   ]
  },
  {
   "cell_type": "code",
   "execution_count": null,
   "id": "c785b64e",
   "metadata": {},
   "outputs": [],
   "source": [
    "api_key='PKCGQ99MC5FQA1P8ZSRE'\n",
    "secret_key='rkWLI1F2poiTbuERdzozfOLgVV6mrFKTH27Ugvb1'\n",
    "from alpaca.data.historical.stock import StockHistoricalDataClient\n",
    "\n",
    "# setup stock historical data client\n",
    "stock_historical_data_client = StockHistoricalDataClient(api_key, secret_key)"
   ]
  },
  {
   "cell_type": "code",
   "execution_count": null,
   "id": "98a52f42",
   "metadata": {},
   "outputs": [],
   "source": [
    "!pip3 install pendulum"
   ]
  },
  {
   "cell_type": "code",
   "execution_count": null,
   "id": "2fb94a8c",
   "metadata": {},
   "outputs": [],
   "source": [
    "from alpaca.data.requests import StockBarsRequest\n",
    "from alpaca.data.timeframe import TimeFrame, TimeFrameUnit\n",
    "import pendulum as dt\n",
    "timez_zone=\"America/New_York\"\n",
    "current_time=dt.now(tz=timez_zone)\n",
    "print(current_time)\n",
    "req = StockBarsRequest(\n",
    "    symbol_or_symbols = 'TSLA',\n",
    "    timeframe=TimeFrame(amount = 1, unit = TimeFrameUnit.Hour), # specify timeframe\n",
    "    start = current_time-dt.duration(days=30),                          # specify start datetime, default=the beginning of the current day.\n",
    "    end_date=current_time#-dt.duration(days=10),                                        # specify end datetime, default=now\n",
    "    # limit = 2,                                               # specify limit\n",
    ")\n",
    "\n",
    "history1=stock_historical_data_client.get_stock_bars(req).df\n",
    "history1"
   ]
  },
  {
   "cell_type": "markdown",
   "id": "ecc6d63c",
   "metadata": {},
   "source": [
    "crypto"
   ]
  },
  {
   "cell_type": "code",
   "execution_count": null,
   "id": "be066cd4",
   "metadata": {},
   "outputs": [],
   "source": [
    "from alpaca.data.historical.crypto import CryptoHistoricalDataClient\n",
    "from alpaca.data.requests import CryptoBarsRequest\n",
    "from alpaca.data.timeframe import TimeFrame, TimeFrameUnit\n",
    "\n",
    "crypto_historical_data_client = CryptoHistoricalDataClient()\n",
    "current_time=dt.now(timez_zone)\n",
    "req = CryptoBarsRequest(\n",
    "    symbol_or_symbols = 'ETH/USD',\n",
    "    timeframe=TimeFrame(amount = 1, unit = TimeFrameUnit.Day), # specify timeframe\n",
    "    start = current_time-dt.duration(days=7),                          # specify start datetime, default=the beginning of the current day.\n",
    "    end_date=current_time#-dt.duration(days=10),                                       # specify end datetime, default=now\n",
    "    # limit = 2,                                               # specify limit\n",
    ")\n",
    "\n",
    "history_df2=crypto_historical_data_client.get_crypto_bars(req).df\n",
    "history_df2"
   ]
  },
  {
   "cell_type": "markdown",
   "id": "1c92cde1",
   "metadata": {},
   "source": [
    "#option"
   ]
  },
  {
   "cell_type": "code",
   "execution_count": null,
   "id": "e20035d5",
   "metadata": {},
   "outputs": [],
   "source": [
    "\n",
    "from alpaca.data.historical.option import OptionHistoricalDataClient\n",
    "from alpaca.data.requests import OptionBarsRequest\n",
    "from alpaca.data.timeframe import TimeFrame, TimeFrameUnit\n",
    "\n",
    "current_time=dt.now(timez_zone)\n",
    "\n",
    "option_historical_data_client=OptionHistoricalDataClient(api_key=api_key,secret_key=secret_key)\n",
    "# get options historical bars by symbol\n",
    "req = OptionBarsRequest(\n",
    "    symbol_or_symbols = 'SPY250609C00600000',\n",
    "    timeframe = TimeFrame(amount = 1, unit = TimeFrameUnit.Hour),   # specify timeframe\n",
    "    start = current_time-dt.duration(days=7),                          # specify start datetime, default=the beginning of the current day.\n",
    "    end_date=current_time#-dt.duration(days=10),                                             # specify end datetime, default=now\n",
    "    # limit = 2,                                                      # specify limit\n",
    ")\n",
    "history3=option_historical_data_client.get_option_bars(req).df\n",
    "history3"
   ]
  },
  {
   "cell_type": "code",
   "execution_count": null,
   "id": "59c38dd6",
   "metadata": {},
   "outputs": [],
   "source": [
    "from alpaca.trading.requests import GetOptionContractsRequest\n",
    "from alpaca.trading.enums import AssetStatus\n",
    "from alpaca.trading.client import TradingClient\n",
    "# setup clients\n",
    "trade_client = TradingClient(api_key=api_key, secret_key=secret_key)\n",
    "\n",
    "# get list of options contracts for the given underlying symbol (e.g. SPY,AAPL)\n",
    "# - get_option_contracts() is a new method to get list of options contracts\n",
    "# - in this example, we get 2 options contracts for SPY,AAPL\n",
    "# - you can continue to fetch options contracts by specifying page_token from next_page_token of response\n",
    "underlying_symbols = [\"SPY\"]\n",
    "req = GetOptionContractsRequest(\n",
    "    underlying_symbols = underlying_symbols,               # specify underlying symbols\n",
    "    status = AssetStatus.ACTIVE,                           # specify asset status: active (default)\n",
    "    expiration_date = None,                                # specify expiration date (specified date + 1 day range)\n",
    "    expiration_date_gte = None,                            # we can pass date object\n",
    "    expiration_date_lte = None,                            # or string (YYYY-MM-DD)\n",
    "    root_symbol = None,                                    # specify root symbol\n",
    "    type = None,                                           # specify option type (ContractType.CALL or ContractType.PUT)\n",
    "    style = None,                                          # specify option style (ContractStyle.AMERICAN or ContractStyle.EUROPEAN)\n",
    "    strike_price_gte = None,                               # specify strike price range\n",
    "    strike_price_lte = None,                               # specify strike price range\n",
    "    # limit = 2,                                             # specify limit\n",
    "    page_token = None,                                     # specify page token\n",
    ")\n",
    "res = trade_client.get_option_contracts(req)\n",
    "res"
   ]
  },
  {
   "cell_type": "code",
   "execution_count": null,
   "id": "cf259e37",
   "metadata": {},
   "outputs": [],
   "source": [
    "import pandas as pd\n",
    "list_of_dicts = [dict(contract) for contract in res.option_contracts]\n",
    "df = pd.DataFrame(list_of_dicts)\n",
    "df.to_csv('data.csv')\n",
    "df"
   ]
  },
  {
   "cell_type": "markdown",
   "id": "a28380ba",
   "metadata": {},
   "source": [
    "quote data"
   ]
  },
  {
   "cell_type": "code",
   "execution_count": null,
   "id": "0e18c56e",
   "metadata": {},
   "outputs": [],
   "source": [
    "from alpaca.data.historical import StockHistoricalDataClient\n",
    "from alpaca.data.requests import StockLatestQuoteRequest\n",
    "\n",
    "# keys required for stock historical data client\n",
    "client = StockHistoricalDataClient(api_key,secret_key)\n",
    "\n",
    "# multi symbol request - single symbol is similar\n",
    "multisymbol_request_params = StockLatestQuoteRequest(symbol_or_symbols=[\"SPY\", \"GLD\", \"TLT\"])\n",
    "\n",
    "latest_multisymbol_quotes = client.get_stock_latest_quote(multisymbol_request_params)\n",
    "print(latest_multisymbol_quotes)\n",
    "gld_latest_ask_price = latest_multisymbol_quotes[\"GLD\"].ask_price\n",
    "gld_latest_ask_price"
   ]
  },
  {
   "cell_type": "code",
   "execution_count": null,
   "id": "ee9124c1",
   "metadata": {},
   "outputs": [
    {
     "ename": "TypeError",
     "evalue": "BaseModel.__init__() takes 1 positional argument but 2 were given",
     "output_type": "error",
     "traceback": [
      "\u001b[31m---------------------------------------------------------------------------\u001b[39m",
      "\u001b[31mTypeError\u001b[39m                                 Traceback (most recent call last)",
      "\u001b[36mCell\u001b[39m\u001b[36m \u001b[39m\u001b[32mIn[36]\u001b[39m\u001b[32m, line 8\u001b[39m\n\u001b[32m      5\u001b[39m client = StockHistoricalDataClient(api_key,secret_key)\n\u001b[32m      7\u001b[39m \u001b[38;5;28;01mfrom\u001b[39;00m\u001b[38;5;250m \u001b[39m\u001b[34;01malpaca\u001b[39;00m\u001b[34;01m.\u001b[39;00m\u001b[34;01mdata\u001b[39;00m\u001b[34;01m.\u001b[39;00m\u001b[34;01mrequests\u001b[39;00m\u001b[38;5;250m \u001b[39m\u001b[38;5;28;01mimport\u001b[39;00m StockSnapshotRequest\n\u001b[32m----> \u001b[39m\u001b[32m8\u001b[39m d1=\u001b[43mStockSnapshotRequest\u001b[49m\u001b[43m(\u001b[49m\u001b[43m[\u001b[49m\u001b[33;43m'\u001b[39;49m\u001b[33;43mSPY\u001b[39;49m\u001b[33;43m'\u001b[39;49m\u001b[43m]\u001b[49m\u001b[43m)\u001b[49m\n\u001b[32m      9\u001b[39m \u001b[38;5;28mprint\u001b[39m(d1)\n\u001b[32m     10\u001b[39m client.get_stock_snapshot(d1)\n",
      "\u001b[31mTypeError\u001b[39m: BaseModel.__init__() takes 1 positional argument but 2 were given"
     ]
    }
   ],
   "source": [
    "from alpaca.data.historical import StockHistoricalDataClient\n",
    "from alpaca.data.requests import StockLatestQuoteRequest\n",
    "\n",
    "# keys required for stock historical data client\n",
    "client = StockHistoricalDataClient(api_key,secret_key)\n",
    "\n",
    "from alpaca.data.requests import StockSnapshotRequest\n",
    "d1=StockSnapshotRequest(['SPY'])\n",
    "print(d1)\n",
    "client.get_stock_snapshot(d1)\n",
    "client.g"
   ]
  },
  {
   "cell_type": "code",
   "execution_count": null,
   "id": "0915a9af",
   "metadata": {},
   "outputs": [],
   "source": [
    "from alpaca.data.historical import CryptoHistoricalDataClient\n",
    "from alpaca.data.requests import CryptoLatestQuoteRequest\n",
    "\n",
    "# keys required for stock historical data client\n",
    "client = CryptoHistoricalDataClient(api_key,secret_key)\n",
    "\n",
    "# multi symbol request - single symbol is similar\n",
    "multisymbol_request_params = CryptoLatestQuoteRequest(symbol_or_symbols=[\"ETH/USD\", \"BTC/USD\", \"SOL/USD\"])\n",
    "\n",
    "latest_multisymbol_quotes = client.get_crypto_latest_quote(multisymbol_request_params)\n",
    "print(latest_multisymbol_quotes)\n",
    "gld_latest_ask_price = latest_multisymbol_quotes[\"BTC/USD\"].ask_price\n",
    "gld_latest_ask_price"
   ]
  },
  {
   "cell_type": "code",
   "execution_count": null,
   "id": "a63dcc8b",
   "metadata": {},
   "outputs": [
    {
     "ename": "TypeError",
     "evalue": "BaseModel.__init__() takes 1 positional argument but 2 were given",
     "output_type": "error",
     "traceback": [
      "\u001b[31m---------------------------------------------------------------------------\u001b[39m",
      "\u001b[31mTypeError\u001b[39m                                 Traceback (most recent call last)",
      "\u001b[36mCell\u001b[39m\u001b[36m \u001b[39m\u001b[32mIn[40]\u001b[39m\u001b[32m, line 6\u001b[39m\n\u001b[32m      3\u001b[39m \u001b[38;5;66;03m# keys required for stock historical data client\u001b[39;00m\n\u001b[32m      4\u001b[39m client1 = CryptoHistoricalDataClient(api_key,secret_key)\n\u001b[32m----> \u001b[39m\u001b[32m6\u001b[39m d1=\u001b[43mCryptoSnapshotRequest\u001b[49m\u001b[43m(\u001b[49m\u001b[43m[\u001b[49m\u001b[33;43m'\u001b[39;49m\u001b[33;43mETHUSD\u001b[39;49m\u001b[33;43m'\u001b[39;49m\u001b[43m]\u001b[49m\u001b[43m)\u001b[49m\n\u001b[32m      7\u001b[39m \u001b[38;5;28mprint\u001b[39m(d1)\n",
      "\u001b[31mTypeError\u001b[39m: BaseModel.__init__() takes 1 positional argument but 2 were given"
     ]
    }
   ],
   "source": [
    "from alpaca.data.historical import CryptoHistoricalDataClient\n",
    "from alpaca.data.requests import CryptoSnapshotRequest\n",
    "# keys required for stock historical data client\n",
    "client1 = CryptoHistoricalDataClient(api_key,secret_key)\n",
    "\n",
    "d1=CryptoSnapshotRequest(['ETHUSD'])\n"
   ]
  },
  {
   "cell_type": "code",
   "execution_count": null,
   "id": "760ffa00",
   "metadata": {},
   "outputs": [
    {
     "ename": "AttributeError",
     "evalue": "'StockHistoricalDataClient' object has no attribute 'get_crypto_snapshot'",
     "output_type": "error",
     "traceback": [
      "\u001b[31m---------------------------------------------------------------------------\u001b[39m",
      "\u001b[31mAttributeError\u001b[39m                            Traceback (most recent call last)",
      "\u001b[36mCell\u001b[39m\u001b[36m \u001b[39m\u001b[32mIn[41]\u001b[39m\u001b[32m, line 13\u001b[39m\n\u001b[32m     10\u001b[39m request = CryptoSnapshotRequest(symbol_or_symbols=[\u001b[33m\"\u001b[39m\u001b[33mETH/USD\u001b[39m\u001b[33m\"\u001b[39m])\n\u001b[32m     12\u001b[39m \u001b[38;5;66;03m# Retrieve snapshot data\u001b[39;00m\n\u001b[32m---> \u001b[39m\u001b[32m13\u001b[39m snapshot = \u001b[43mclient\u001b[49m\u001b[43m.\u001b[49m\u001b[43mget_crypto_snapshot\u001b[49m(request)\n\u001b[32m     15\u001b[39m \u001b[38;5;66;03m# Access data for ETH/USD\u001b[39;00m\n\u001b[32m     16\u001b[39m eth_snapshot = snapshot[\u001b[33m\"\u001b[39m\u001b[33mETH/USD\u001b[39m\u001b[33m\"\u001b[39m]\n",
      "\u001b[31mAttributeError\u001b[39m: 'StockHistoricalDataClient' object has no attribute 'get_crypto_snapshot'"
     ]
    }
   ],
   "source": [
    "from alpaca.data.historical import StockHistoricalDataClient  # Correct client\n",
    "from alpaca.data.requests import CryptoSnapshotRequest\n",
    "\n",
    "\n",
    "\n",
    "# Initialize client with correct credentials\n",
    "client = StockHistoricalDataClient(api_key, secret_key)\n",
    "\n",
    "# Create request object with symbol(s)\n",
    "request = CryptoSnapshotRequest(symbol_or_symbols=[\"ETH/USD\"])\n",
    "\n",
    "# Retrieve snapshot data\n",
    "snapshot = client.get(request)\n",
    "\n",
    "# Access data for ETH/USD\n",
    "eth_snapshot = snapshot[\"ETH/USD\"]\n",
    "\n",
    "# Print the snapshot data\n",
    "print(eth_snapshot)"
   ]
  }
 ],
 "metadata": {
  "kernelspec": {
   "display_name": ".venv",
   "language": "python",
   "name": "python3"
  },
  "language_info": {
   "codemirror_mode": {
    "name": "ipython",
    "version": 3
   },
   "file_extension": ".py",
   "mimetype": "text/x-python",
   "name": "python",
   "nbconvert_exporter": "python",
   "pygments_lexer": "ipython3",
   "version": "3.12.8"
  }
 },
 "nbformat": 4,
 "nbformat_minor": 5
}
