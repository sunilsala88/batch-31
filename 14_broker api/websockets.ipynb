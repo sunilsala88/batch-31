{
 "cells": [
  {
   "cell_type": "markdown",
   "id": "5286cec7",
   "metadata": {},
   "source": []
  },
  {
   "cell_type": "code",
   "execution_count": 1,
   "id": "6db70b32",
   "metadata": {},
   "outputs": [],
   "source": [
    "# to run async code in jupyter notebook\n",
    "import nest_asyncio\n",
    "nest_asyncio.apply()\n",
    "import os\n",
    "import certifi\n",
    "#for windows ssl error\n",
    "os.environ['SSL_CERT_FILE'] = certifi.where()"
   ]
  },
  {
   "cell_type": "code",
   "execution_count": null,
   "id": "6cf3abfb",
   "metadata": {},
   "outputs": [],
   "source": [
    "from alpaca.data.live.crypto import CryptoDataStream\n",
    "\n",
    "# import os\n",
    "# import certifi\n",
    "# #for windows ssl error\n",
    "# os.environ['SSL_CERT_FILE'] = certifi.where()\n",
    "\n",
    "import pendulum as dt\n",
    "time_zone=\"UTC\"\n",
    "print(dt.now(time_zone))\n",
    "\n",
    "api_key='PKCGQ99MC5FQA1P8ZSRE'\n",
    "secret_key='rkWLI1F2poiTbuERdzozfOLgVV6mrFKTH27Ugvb1'\n",
    "\n",
    "crypto_data_stream_client=CryptoDataStream(api_key,secret_key)\n",
    "async def sample(data):\n",
    "    print(data)\n",
    "    print(dt.now(time_zone))\n",
    "# symbol=['BTC/USD','ETH/USD']\n",
    "symbol=['BTC/USD','ETH/USD']\n",
    "# crypto_data_stream_client.subscribe_trades(crypto_data_stream_handler, *symbol)\n",
    "\n",
    "crypto_data_stream_client.subscribe_quotes(sample, *symbol)\n",
    "crypto_data_stream_client.run()"
   ]
  },
  {
   "cell_type": "markdown",
   "id": "0a873771",
   "metadata": {},
   "source": [
    "stock"
   ]
  },
  {
   "cell_type": "code",
   "execution_count": null,
   "id": "d472be8b",
   "metadata": {},
   "outputs": [],
   "source": [
    "\n",
    "from credentials import api_key,secret_key\n",
    "\n",
    "from alpaca.data.live.stock import StockDataStream\n",
    "stock_data_stream_client = StockDataStream(api_key, secret_key)\n",
    "\n",
    "async def stock_data_stream_handler(data):\n",
    "    print(data)\n",
    "\n",
    "symbol='TSLA'\n",
    "symbols = [symbol,'GOOG']\n",
    "\n",
    "stock_data_stream_client.subscribe_quotes(stock_data_stream_handler, *symbols)\n",
    "# stock_data_stream_client.subscribe_trades(stock_data_stream_handler, *symbols)\n",
    "\n",
    "stock_data_stream_client.run()"
   ]
  },
  {
   "cell_type": "markdown",
   "id": "820551f9",
   "metadata": {},
   "source": [
    "crypto"
   ]
  },
  {
   "cell_type": "code",
   "execution_count": null,
   "id": "e1bf2f85",
   "metadata": {},
   "outputs": [],
   "source": [
    "from alpaca.data.live.crypto import CryptoDataStream\n",
    "\n",
    "api_key='PKCGQ99MC5FQA1P8ZSRE'\n",
    "secret_key='rkWLI1F2poiTbuERdzozfOLgVV6mrFKTH27Ugvb1'\n",
    "\n",
    "crypto_data_stream_client=CryptoDataStream(api_key,secret_key)\n",
    "async def crypto_data_stream_handler(data):\n",
    "    print(data)\n",
    "symbol=['BTC/USD','ETH/USD']\n",
    "crypto_data_stream_client.subscribe_trades(crypto_data_stream_handler, *symbol)\n",
    "# crypto_data_stream_client.subscribe_quotes(crypto_data_stream_handler, *symbol)\n",
    "crypto_data_stream_client.run()"
   ]
  },
  {
   "cell_type": "markdown",
   "id": "a45760f7",
   "metadata": {},
   "source": [
    "option"
   ]
  },
  {
   "cell_type": "code",
   "execution_count": null,
   "id": "ade7dfff",
   "metadata": {},
   "outputs": [],
   "source": [
    "from alpaca.data.live.option import OptionDataStream\n",
    "from credentials import api_key, secret_key\n",
    "option_data_stream_client = OptionDataStream(api_key, secret_key)\n",
    "async def option_data_stream_handler(data):\n",
    "    print(data)\n",
    "symbol=['AAPL250221C00245000']\n",
    "# option_data_stream_client.subscribe_quotes(option_data_stream_handler, *symbol)\n",
    "option_data_stream_client.subscribe_trades(option_data_stream_handler, *symbol)\n",
    "option_data_stream_client.run()"
   ]
  }
 ],
 "metadata": {
  "kernelspec": {
   "display_name": ".venv",
   "language": "python",
   "name": "python3"
  },
  "language_info": {
   "codemirror_mode": {
    "name": "ipython",
    "version": 3
   },
   "file_extension": ".py",
   "mimetype": "text/x-python",
   "name": "python",
   "nbconvert_exporter": "python",
   "pygments_lexer": "ipython3",
   "version": "3.12.8"
  }
 },
 "nbformat": 4,
 "nbformat_minor": 5
}
