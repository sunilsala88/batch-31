{
 "cells": [
  {
   "cell_type": "markdown",
   "id": "5286cec7",
   "metadata": {},
   "source": []
  },
  {
   "cell_type": "code",
   "execution_count": 1,
   "id": "6db70b32",
   "metadata": {},
   "outputs": [],
   "source": [
    "# to run async code in jupyter notebook\n",
    "import nest_asyncio\n",
    "nest_asyncio.apply()\n",
    "import os\n",
    "import certifi\n",
    "#for windows ssl error\n",
    "os.environ['SSL_CERT_FILE'] = certifi.where()"
   ]
  },
  {
   "cell_type": "code",
   "execution_count": null,
   "id": "6cf3abfb",
   "metadata": {},
   "outputs": [
    {
     "name": "stdout",
     "output_type": "stream",
     "text": [
      "2025-06-15 13:13:48.480730+00:00\n",
      "symbol='BTC/USD' timestamp=datetime.datetime(2025, 6, 15, 13, 13, 53, 545018, tzinfo=datetime.timezone.utc) bid_price=105434.327 bid_size=1.614 bid_exchange=None ask_price=105572.2 ask_size=0.0003 ask_exchange=None conditions=None tape=None\n",
      "2025-06-15 13:13:53.609395+00:00\n",
      "symbol='BTC/USD' timestamp=datetime.datetime(2025, 6, 15, 13, 13, 53, 545217, tzinfo=datetime.timezone.utc) bid_price=105443.66 bid_size=0.808075 bid_exchange=None ask_price=105572.2 ask_size=0.0003 ask_exchange=None conditions=None tape=None\n",
      "2025-06-15 13:13:53.609771+00:00\n"
     ]
    }
   ],
   "source": [
    "from alpaca.data.live.crypto import CryptoDataStream\n",
    "\n",
    "# import os\n",
    "# import certifi\n",
    "# #for windows ssl error\n",
    "# os.environ['SSL_CERT_FILE'] = certifi.where()\n",
    "\n",
    "import pendulum as dt\n",
    "time_zone=\"UTC\"\n",
    "print(dt.now(time_zone))\n",
    "\n",
    "api_key='PKCGQ99MC5FQA1P8ZSRE'\n",
    "secret_key='rkWLI1F2poiTbuERdzozfOLgVV6mrFKTH27Ugvb1'\n",
    "\n",
    "crypto_data_stream_client=CryptoDataStream(api_key,secret_key)\n",
    "async def sample(data):\n",
    "    print(data)\n",
    "    print(dt.now(time_zone))\n",
    "# symbol=['BTC/USD','ETH/USD']\n",
    "symbol=['BTC/USD','ETH/USD']\n",
    "# crypto_data_stream_client.subscribe_trades(crypto_data_stream_handler, *symbol)\n",
    "\n",
    "crypto_data_stream_client.subscribe_quotes(sample, *symbol)\n",
    "crypto_data_stream_client.run()"
   ]
  }
 ],
 "metadata": {
  "kernelspec": {
   "display_name": ".venv",
   "language": "python",
   "name": "python3"
  },
  "language_info": {
   "codemirror_mode": {
    "name": "ipython",
    "version": 3
   },
   "file_extension": ".py",
   "mimetype": "text/x-python",
   "name": "python",
   "nbconvert_exporter": "python",
   "pygments_lexer": "ipython3",
   "version": "3.12.8"
  }
 },
 "nbformat": 4,
 "nbformat_minor": 5
}
