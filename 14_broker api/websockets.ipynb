{
 "cells": [
  {
   "cell_type": "markdown",
   "id": "5286cec7",
   "metadata": {},
   "source": []
  },
  {
   "cell_type": "code",
   "execution_count": 1,
   "id": "6db70b32",
   "metadata": {},
   "outputs": [],
   "source": [
    "# to run async code in jupyter notebook\n",
    "import nest_asyncio\n",
    "nest_asyncio.apply()\n",
    "import os\n",
    "import certifi\n",
    "#for windows ssl error\n",
    "os.environ['SSL_CERT_FILE'] = certifi.where()"
   ]
  },
  {
   "cell_type": "code",
   "execution_count": null,
   "id": "6cf3abfb",
   "metadata": {},
   "outputs": [],
   "source": [
    "from alpaca.data.live.crypto import CryptoDataStream\n",
    "\n",
    "# import os\n",
    "# import certifi\n",
    "# #for windows ssl error\n",
    "# os.environ['SSL_CERT_FILE'] = certifi.where()\n",
    "\n",
    "import pendulum as dt\n",
    "time_zone=\"UTC\"\n",
    "print(dt.now(time_zone))\n",
    "\n",
    "api_key='PKCGQ99MC5FQA1P8ZSRE'\n",
    "secret_key='rkWLI1F2poiTbuERdzozfOLgVV6mrFKTH27Ugvb1'\n",
    "\n",
    "crypto_data_stream_client=CryptoDataStream(api_key,secret_key)\n",
    "async def sample(data):\n",
    "    print(data)\n",
    "    print(dt.now(time_zone))\n",
    "# symbol=['BTC/USD','ETH/USD']\n",
    "symbol=['BTC/USD','ETH/USD']\n",
    "# crypto_data_stream_client.subscribe_trades(crypto_data_stream_handler, *symbol)\n",
    "\n",
    "crypto_data_stream_client.subscribe_quotes(sample, *symbol)\n",
    "crypto_data_stream_client.run()"
   ]
  },
  {
   "cell_type": "markdown",
   "id": "0a873771",
   "metadata": {},
   "source": [
    "stock"
   ]
  },
  {
   "cell_type": "code",
   "execution_count": null,
   "id": "d472be8b",
   "metadata": {},
   "outputs": [],
   "source": [
    "\n",
    "from credentials import api_key,secret_key\n",
    "\n",
    "from alpaca.data.live.stock import StockDataStream\n",
    "stock_data_stream_client = StockDataStream(api_key, secret_key)\n",
    "\n",
    "async def stock_data_stream_handler(data):\n",
    "    print(data)\n",
    "\n",
    "symbol='TSLA'\n",
    "symbols = [symbol,'GOOG']\n",
    "\n",
    "stock_data_stream_client.subscribe_quotes(stock_data_stream_handler, *symbols)\n",
    "# stock_data_stream_client.subscribe_trades(stock_data_stream_handler, *symbols)\n",
    "\n",
    "stock_data_stream_client.run()"
   ]
  },
  {
   "cell_type": "markdown",
   "id": "820551f9",
   "metadata": {},
   "source": [
    "crypto"
   ]
  },
  {
   "cell_type": "code",
   "execution_count": null,
   "id": "e1bf2f85",
   "metadata": {},
   "outputs": [
    {
     "name": "stdout",
     "output_type": "stream",
     "text": [
      "symbol='BTC/USD' timestamp=datetime.datetime(2025, 6, 21, 13, 33, 48, 697722, tzinfo=datetime.timezone.utc) exchange=None price=103971.7 size=0.001857594 id=2383263763005852525 conditions=None tape=None\n",
      "symbol='ETH/USD' timestamp=datetime.datetime(2025, 6, 21, 13, 42, 59, 562435, tzinfo=datetime.timezone.utc) exchange=None price=2437.66 size=0.00418434 id=1784724011833313050 conditions=None tape=None\n",
      "symbol='ETH/USD' timestamp=datetime.datetime(2025, 6, 21, 13, 43, 32, 373174, tzinfo=datetime.timezone.utc) exchange=None price=2433.67 size=0.00418434 id=8999509964325601440 conditions=None tape=None\n",
      "symbol='BTC/USD' timestamp=datetime.datetime(2025, 6, 21, 13, 44, 35, 10760, tzinfo=datetime.timezone.utc) exchange=None price=103849.212 size=0.00011573 id=752138449795892913 conditions=None tape=None\n",
      "symbol='BTC/USD' timestamp=datetime.datetime(2025, 6, 21, 13, 46, 53, 419373, tzinfo=datetime.timezone.utc) exchange=None price=103501.628 size=6.3627e-05 id=2869719291700464853 conditions=None tape=None\n",
      "symbol='BTC/USD' timestamp=datetime.datetime(2025, 6, 21, 13, 50, 45, 134210, tzinfo=datetime.timezone.utc) exchange=None price=103725.5 size=0.00011585 id=5290719723046192683 conditions=None tape=None\n",
      "symbol='ETH/USD' timestamp=datetime.datetime(2025, 6, 21, 13, 53, 10, 126620, tzinfo=datetime.timezone.utc) exchange=None price=2419.7 size=12.623 id=8169787818428613072 conditions=None tape=None\n",
      "symbol='ETH/USD' timestamp=datetime.datetime(2025, 6, 21, 13, 53, 10, 126636, tzinfo=datetime.timezone.utc) exchange=None price=2419.11 size=0.476256 id=5208343306276586783 conditions=None tape=None\n",
      "symbol='BTC/USD' timestamp=datetime.datetime(2025, 6, 21, 13, 53, 51, 650484, tzinfo=datetime.timezone.utc) exchange=None price=103669.187 size=0.00011592 id=5794425722992020035 conditions=None tape=None\n",
      "symbol='BTC/USD' timestamp=datetime.datetime(2025, 6, 21, 13, 56, 58, 149055, tzinfo=datetime.timezone.utc) exchange=None price=103684.281 size=0.00011594 id=8789103436249646407 conditions=None tape=None\n",
      "symbol='BTC/USD' timestamp=datetime.datetime(2025, 6, 21, 13, 57, 34, 793581, tzinfo=datetime.timezone.utc) exchange=None price=103666.7 size=6.5254e-05 id=4931205203779473045 conditions=None tape=None\n",
      "symbol='ETH/USD' timestamp=datetime.datetime(2025, 6, 21, 13, 59, 31, 890693, tzinfo=datetime.timezone.utc) exchange=None price=2422.4 size=1.0 id=9039613419364566873 conditions=None tape=None\n"
     ]
    }
   ],
   "source": [
    "from alpaca.data.live.crypto import CryptoDataStream\n",
    "\n",
    "api_key='PKCGQ99MC5FQA1P8ZSRE'\n",
    "secret_key='rkWLI1F2poiTbuERdzozfOLgVV6mrFKTH27Ugvb1'\n",
    "\n",
    "crypto_data_stream_client=CryptoDataStream(api_key,secret_key)\n",
    "async def crypto_data_stream_handler(data):\n",
    "    print(data)\n",
    "symbol=['BTC/USD','ETH/USD']\n",
    "crypto_data_stream_client.subscribe_trades(crypto_data_stream_handler, *symbol)\n",
    "# crypto_data_stream_client.subscribe_quotes(crypto_data_stream_handler, *symbol)\n",
    "crypto_data_stream_client.run()"
   ]
  },
  {
   "cell_type": "markdown",
   "id": "a45760f7",
   "metadata": {},
   "source": [
    "option"
   ]
  },
  {
   "cell_type": "code",
   "execution_count": null,
   "id": "ade7dfff",
   "metadata": {},
   "outputs": [],
   "source": [
    "from alpaca.data.live.option import OptionDataStream\n",
    "from credentials import api_key, secret_key\n",
    "option_data_stream_client = OptionDataStream(api_key, secret_key)\n",
    "async def option_data_stream_handler(data):\n",
    "    print(data)\n",
    "symbol=['AAPL250221C00245000']\n",
    "# option_data_stream_client.subscribe_quotes(option_data_stream_handler, *symbol)\n",
    "option_data_stream_client.subscribe_trades(option_data_stream_handler, *symbol)\n",
    "option_data_stream_client.run()"
   ]
  }
 ],
 "metadata": {
  "kernelspec": {
   "display_name": ".venv",
   "language": "python",
   "name": "python3"
  },
  "language_info": {
   "codemirror_mode": {
    "name": "ipython",
    "version": 3
   },
   "file_extension": ".py",
   "mimetype": "text/x-python",
   "name": "python",
   "nbconvert_exporter": "python",
   "pygments_lexer": "ipython3",
   "version": "3.12.8"
  }
 },
 "nbformat": 4,
 "nbformat_minor": 5
}
