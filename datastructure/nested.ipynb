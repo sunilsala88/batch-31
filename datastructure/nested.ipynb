{
 "cells": [
  {
   "cell_type": "code",
   "execution_count": 10,
   "metadata": {},
   "outputs": [
    {
     "data": {
      "text/plain": [
       "33"
      ]
     },
     "execution_count": 10,
     "metadata": {},
     "output_type": "execute_result"
    }
   ],
   "source": [
    "a=[33,44,'hello',{'prices':[22,33,44],'name':'hello'}]\n",
    "a[3].get('prices')[1]"
   ]
  },
  {
   "cell_type": "code",
   "execution_count": 13,
   "metadata": {},
   "outputs": [
    {
     "data": {
      "text/plain": [
       "3000"
      ]
     },
     "execution_count": 13,
     "metadata": {},
     "output_type": "execute_result"
    }
   ],
   "source": [
    "stocks={\n",
    "    'AAPL': [150,160,170],\n",
    "    'MSFT': [250,260,270],\n",
    "    'GOOGL': [2800,2900,3000]\n",
    "}\n",
    "stocks.get('GOOGL')[2]"
   ]
  },
  {
   "cell_type": "code",
   "execution_count": 15,
   "metadata": {},
   "outputs": [
    {
     "data": {
      "text/plain": [
       "2700"
      ]
     },
     "execution_count": 15,
     "metadata": {},
     "output_type": "execute_result"
    }
   ],
   "source": [
    "stocks={\n",
    "    'AAPL': {'open': 150, 'close': 170,'high': 180,'low': 140},\n",
    "    'MSFT': {'open': 250, 'close': 270,'high': 280,'low': 240},\n",
    "    'GOOGL': {'open': 2800, 'close': 3000,'high': 3100,'low': 2700},\n",
    "\n",
    "    'tsla': [250,260,270],\n",
    "    'nifty': [2800,2900,3000]\n",
    "}\n",
    "stocks.get('GOOGL').get('low')"
   ]
  },
  {
   "cell_type": "code",
   "execution_count": 18,
   "metadata": {},
   "outputs": [
    {
     "data": {
      "text/plain": [
       "7.1"
      ]
     },
     "execution_count": 18,
     "metadata": {},
     "output_type": "execute_result"
    }
   ],
   "source": [
    "hedge_fund_portfolio = {\n",
    "    \"fund_name\": \"Alpha Investments\",\n",
    "    \"portfolio_value\": 50000000,\n",
    "    \"investments\": [\n",
    "        {\n",
    "            \"type\": \"Equity\",\n",
    "            \"holdings\": [\n",
    "                {\"ticker\": \"AAPL\", \"quantity\": 10000, \"average_buy_price\": 120},\n",
    "                {\"ticker\": \"TSLA\", \"quantity\": 5000, \"average_buy_price\": 600}\n",
    "            ]\n",
    "        },\n",
    "        {\n",
    "            \"type\": \"Fixed Income\",\n",
    "            \"holdings\": [\n",
    "                {\"bond_issue\": \"US Treasuries\", \"amount\": 10000000, \"yield\": 1.5}\n",
    "            ]\n",
    "        },\n",
    "        {\n",
    "            \"type\": \"Derivatives\",\n",
    "            \"holdings\": [\n",
    "                {\"instrument\": \"Options\", \"details\": {\"underlying\": \"GOOGL\", \"type\": \"Call\", \"strike_price\": 1500}}\n",
    "            ]\n",
    "        }\n",
    "    ],\n",
    "    \"performance_metrics\": {\n",
    "        \"year_to_date_return\": 5.2,\n",
    "        \"five_year_annualized_return\": 7.1\n",
    "    }\n",
    "}\n",
    "hedge_fund_portfolio.get('performance_metrics').get('five_year_annualized_return')"
   ]
  },
  {
   "cell_type": "code",
   "execution_count": 31,
   "metadata": {},
   "outputs": [
    {
     "data": {
      "text/plain": [
       "600"
      ]
     },
     "execution_count": 31,
     "metadata": {},
     "output_type": "execute_result"
    }
   ],
   "source": [
    "hedge_fund_portfolio.get('investments')[0].get('holdings')[1].get('average_buy_price')"
   ]
  },
  {
   "cell_type": "code",
   "execution_count": 45,
   "metadata": {},
   "outputs": [
    {
     "data": {
      "text/plain": [
       "1500"
      ]
     },
     "execution_count": 45,
     "metadata": {},
     "output_type": "execute_result"
    }
   ],
   "source": [
    "hedge_fund_portfolio.get('investments')[2].get('holdings')[0].get('details').get('strike_price')"
   ]
  },
  {
   "cell_type": "code",
   "execution_count": 54,
   "metadata": {},
   "outputs": [],
   "source": [
    "credit_risk_profiles = {\n",
    "    \"individuals\": [\n",
    "        {\n",
    "            \"name\": \"John Doe\",\n",
    "            \"credit_score\": 750,\n",
    "            \"outstanding_loans\": {\n",
    "                \"auto_loan\": {\"amount\": 20000, \"interest_rate\": 3.5},\n",
    "                \"home_loan\": {\"amount\": 150000, \"interest_rate\": 2.8}\n",
    "            },\n",
    "            \"payment_history\": [(\"2024-01-10\", \"On Time\"), (\"2024-01-01\", \"Late\")]\n",
    "        },\n",
    "        {\n",
    "            \"name\": \"Jane Smith\",\n",
    "            \"credit_score\": 680,\n",
    "            \"outstanding_loans\": {\n",
    "                \"credit_card\": {\"amount\": 5000, \"interest_rate\": 12.0}\n",
    "            },\n",
    "            \"payment_history\": [(\"2024-01-10\", \"On Time\")]\n",
    "        }\n",
    "    ]\n",
    "}"
   ]
  },
  {
   "cell_type": "code",
   "execution_count": 60,
   "metadata": {},
   "outputs": [
    {
     "data": {
      "text/plain": [
       "20000"
      ]
     },
     "execution_count": 60,
     "metadata": {},
     "output_type": "execute_result"
    }
   ],
   "source": [
    "credit_risk_profiles.get('individuals')[0].get('outstanding_loans').get('auto_loan').get('amount')"
   ]
  },
  {
   "cell_type": "code",
   "execution_count": 49,
   "metadata": {},
   "outputs": [
    {
     "data": {
      "text/plain": [
       "[[150, 160, 170], [250, 260, 270], [2800, 2900, 3000]]"
      ]
     },
     "execution_count": 49,
     "metadata": {},
     "output_type": "execute_result"
    }
   ],
   "source": [
    "stocks={\n",
    "    'AAPL': [150,160,170],\n",
    "    'MSFT': [250,260,270],\n",
    "    'GOOGL': [2800,2900,3000]\n",
    "}\n",
    "list(stocks.values())"
   ]
  },
  {
   "cell_type": "code",
   "execution_count": 52,
   "metadata": {},
   "outputs": [
    {
     "data": {
      "text/plain": [
       "260"
      ]
     },
     "execution_count": 52,
     "metadata": {},
     "output_type": "execute_result"
    }
   ],
   "source": [
    "b=[[150, 160, 170], [250, 260, 270], [2800, 2900, 3000]]\n",
    "b[1][1]"
   ]
  },
  {
   "cell_type": "code",
   "execution_count": 62,
   "metadata": {},
   "outputs": [],
   "source": [
    "foreign_exchange = {\n",
    "    \"base_currency\": \"USD\",\n",
    "    \"exchange_rates\": {\n",
    "        \"EUR\": {\n",
    "            \"current_rate\": 0.85,\n",
    "            \"historical_rates\": [\n",
    "                {\"date\": \"2024-01-10\", \"rate\": 0.84},\n",
    "                {\"date\": \"2024-01-09\", \"rate\": 0.85}\n",
    "            ]\n",
    "        },\n",
    "        \"JPY\": {\n",
    "            \"current_rate\": 110.00,\n",
    "            \"historical_rates\": [\n",
    "                {\"date\": \"2024-01-10\", \"rate\": 109.50},\n",
    "                {\"date\": \"2024-01-09\", \"rate\": 110.20}\n",
    "            ]\n",
    "        }\n",
    "    }\n",
    "}"
   ]
  },
  {
   "cell_type": "code",
   "execution_count": 68,
   "metadata": {},
   "outputs": [
    {
     "data": {
      "text/plain": [
       "0.85"
      ]
     },
     "execution_count": 68,
     "metadata": {},
     "output_type": "execute_result"
    }
   ],
   "source": [
    "foreign_exchange.get('exchange_rates').get('EUR').get('historical_rates')[1].get('rate')"
   ]
  },
  {
   "cell_type": "code",
   "execution_count": 6,
   "metadata": {},
   "outputs": [
    {
     "data": {
      "text/plain": [
       "(170, 110.0)"
      ]
     },
     "execution_count": 6,
     "metadata": {},
     "output_type": "execute_result"
    }
   ],
   "source": [
    "foreign_exchange = {\n",
    "    \"base_currency\": \"USD\",\n",
    "    \"exchange_rates\": {\n",
    "        \"EUR\": {\n",
    "            \"current_rate\": 170,\n",
    "            \"historical_rates\": [\n",
    "                {\"date\": \"2024-01-10\", \"rate\": 0.84},\n",
    "                {\"date\": \"2024-01-09\", \"rate\": 0.85}\n",
    "            ]\n",
    "        },\n",
    "        \"JPY\": {\n",
    "            \"current_rate\": 110.00,\n",
    "            \"historical_rates\": [\n",
    "                {\"date\": \"2024-01-10\", \"rate\": 109.50},\n",
    "                {\"date\": \"2024-01-09\", \"rate\": 110.20}\n",
    "            ]\n",
    "        }\n",
    "    }\n",
    "}\n",
    "eur_rate=foreign_exchange.get('exchange_rates').get('EUR').get('current_rate')\n",
    "jpy_rate=foreign_exchange.get('exchange_rates').get('JPY').get('current_rate')\n",
    "eur_rate,jpy_rate"
   ]
  },
  {
   "cell_type": "code",
   "execution_count": 7,
   "metadata": {},
   "outputs": [
    {
     "name": "stdout",
     "output_type": "stream",
     "text": [
      "eur is greater\n"
     ]
    }
   ],
   "source": [
    "if eur_rate>jpy_rate:\n",
    "    print('eur is greater')\n",
    "else:\n",
    "    print('jpy is greater')"
   ]
  }
 ],
 "metadata": {
  "kernelspec": {
   "display_name": "Python 3",
   "language": "python",
   "name": "python3"
  },
  "language_info": {
   "codemirror_mode": {
    "name": "ipython",
    "version": 3
   },
   "file_extension": ".py",
   "mimetype": "text/x-python",
   "name": "python",
   "nbconvert_exporter": "python",
   "pygments_lexer": "ipython3",
   "version": "3.12.8"
  }
 },
 "nbformat": 4,
 "nbformat_minor": 2
}
